{
  "nbformat": 4,
  "nbformat_minor": 0,
  "metadata": {
    "colab": {
      "provenance": []
    },
    "kernelspec": {
      "name": "python3",
      "display_name": "Python 3"
    },
    "language_info": {
      "name": "python"
    }
  },
  "cells": [
    {
      "cell_type": "code",
      "source": [
        "!pip install -q streamlit pyngrok"
      ],
      "metadata": {
        "id": "1RUMseShpQix"
      },
      "execution_count": null,
      "outputs": []
    },
    {
      "cell_type": "code",
      "source": [
        "# Run the Streamlit app\n",
        "!streamlit run app.py &>/content/log.txt &\n",
        "\n",
        "# Give it time to start\n",
        "import time\n",
        "time.sleep(5)\n",
        "\n",
        "# Open a tunnel on port 8501\n",
        "from pyngrok import ngrok\n",
        "ngrok.set_auth_token(\"2yIU4JjasXVYh4bQoaXAC4HGDBt_6FFRABEWX6nn9D9nAK6dY\")\n",
        "public_url = ngrok.connect(8501, \"http\")\n",
        "\n",
        "print(\"Streamlit is live at:\", public_url)"
      ],
      "metadata": {
        "colab": {
          "base_uri": "https://localhost:8080/"
        },
        "id": "khum3jbqqOeN",
        "outputId": "c4815b44-7781-4a04-d2a8-f96ffb840c52"
      },
      "execution_count": null,
      "outputs": [
        {
          "output_type": "stream",
          "name": "stdout",
          "text": [
            "Streamlit is live at: NgrokTunnel: \"https://3a57-34-106-94-201.ngrok-free.app\" -> \"http://localhost:8501\"\n"
          ]
        }
      ]
    },
    {
      "cell_type": "code",
      "source": [
        "!tail -n 100 /content/log.txt"
      ],
      "metadata": {
        "colab": {
          "base_uri": "https://localhost:8080/"
        },
        "id": "fOrnRiourdUN",
        "outputId": "01e94cb8-7a4e-4d99-81e5-223c7604773c"
      },
      "execution_count": null,
      "outputs": [
        {
          "output_type": "stream",
          "name": "stdout",
          "text": [
            "\n",
            "Collecting usage statistics. To deactivate, set browser.gatherUsageStats to false.\n",
            "\n",
            "\n",
            "  You can now view your Streamlit app in your browser.\n",
            "\n",
            "  Local URL: http://localhost:8504\n",
            "  Network URL: http://172.28.0.12:8504\n",
            "  External URL: http://34.106.94.201:8504\n",
            "\n"
          ]
        }
      ]
    },
    {
      "cell_type": "code",
      "source": [],
      "metadata": {
        "id": "UX1u3OgMsevx"
      },
      "execution_count": null,
      "outputs": []
    }
  ]
}